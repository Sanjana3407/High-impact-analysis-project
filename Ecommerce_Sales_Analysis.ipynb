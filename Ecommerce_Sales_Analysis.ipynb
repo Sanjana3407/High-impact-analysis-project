{
 "cells": [
  {
   "cell_type": "markdown",
   "id": "3be0d7c5",
   "metadata": {},
   "source": [
    "# E-commerce Sales Dashboard & Insights"
   ]
  },
  {
   "cell_type": "code",
   "execution_count": null,
   "id": "774e8ca6",
   "metadata": {},
   "outputs": [],
   "source": [
    "import pandas as pd, matplotlib.pyplot as plt\n",
    "df = pd.read_csv('ecommerce_sales.csv', parse_dates=['OrderDate'])\n",
    "print(df.head())"
   ]
  },
  {
   "cell_type": "code",
   "execution_count": null,
   "id": "3bfb8360",
   "metadata": {},
   "outputs": [],
   "source": [
    "cat_sales = df.groupby('Category')['Sales'].sum().sort_values(ascending=False)\n",
    "print(cat_sales)\n",
    "ax = cat_sales.plot(kind='bar', title='Sales by Category'); ax.set_xlabel('Category'); ax.set_ylabel('Total Sales'); plt.show()"
   ]
  }
 ],
 "metadata": {},
 "nbformat": 4,
 "nbformat_minor": 5
}
